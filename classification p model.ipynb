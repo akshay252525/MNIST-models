{
 "cells": [
  {
   "cell_type": "code",
   "execution_count": null,
   "id": "bdcd1a0e-3911-47c0-80b5-2863000e6916",
   "metadata": {},
   "outputs": [],
   "source": [
    "# MNIST PyTorch model by building custom Dataset subclass\n",
    "# built-in MNIST PyTorch Dataset subclass available on torchvision.dataset; this is for practice\n",
    "# MNIST datasets in CSV form accessed at https://github.com/phoebetronic/mnist"
   ]
  },
  {
   "cell_type": "code",
   "execution_count": null,
   "id": "7178052d-d432-4b15-8623-cdbe5cb549f6",
   "metadata": {},
   "outputs": [],
   "source": [
    "import pandas as pd\n",
    "import matplotlib.pyplot as plt\n",
    "import numpy as np\n",
    "import torch\n",
    "from torch import nn\n",
    "from torch.utils.data import Dataset, DataLoader\n",
    "import random"
   ]
  },
  {
   "cell_type": "code",
   "execution_count": null,
   "id": "27ec74c5-8a12-4201-a9a6-e25f9c5b8d8b",
   "metadata": {},
   "outputs": [],
   "source": [
    "class MyDataset(Dataset):\n",
    "\n",
    "    def __init__(self, csv_file):\n",
    "        self.df = pd.read_csv(csv_file, delimiter=\",\", header = None)\n",
    "        \n",
    "    def __len__(self):\n",
    "        return len(self.df)\n",
    "\n",
    "    def __getitem__(self, index):\n",
    "        entry = self.df.iloc[index]\n",
    "        image_in_1D = torch.from_numpy(entry[1:].to_numpy())\n",
    "        image_in_3D = torch.reshape(image_in_1D, (1, 28, 28))\n",
    "        image = image_in_3D / 255\n",
    "        label = torch.tensor(entry[0])\n",
    "        return image, label"
   ]
  },
  {
   "cell_type": "code",
   "execution_count": null,
   "id": "4af9bb4f-90ad-4976-8123-b55d5d66c7cf",
   "metadata": {},
   "outputs": [],
   "source": [
    "train_dataset = MyDataset(\"mnist_train.csv\")\n",
    "test_dataset = MyDataset(\"mnist_test.csv\")\n",
    "train_dataloader = DataLoader(train_dataset, batch_size = 100, shuffle = True)\n",
    "test_dataloader = DataLoader(test_dataset, batch_size = 100, shuffle = True)"
   ]
  },
  {
   "cell_type": "code",
   "execution_count": null,
   "id": "8c4b46a5-61ea-48a0-af9b-9cdc193fe950",
   "metadata": {},
   "outputs": [],
   "source": [
    "# http://machinelearningmastery.com/building-a-convolutional-neural-network-in-pytorch/\n",
    "# with amendments made to fit my 1 channel, 28x28 pixel images\n",
    "\n",
    "class CIFAR10Model(nn.Module):\n",
    "    \n",
    "    def __init__(self):\n",
    "        \n",
    "        super().__init__()\n",
    "        \n",
    "        self.conv1 = nn.Conv2d(1, 28, kernel_size=(3,3), stride=1, padding=1)\n",
    "        self.act1 = nn.ReLU()\n",
    "        self.drop1 = nn.Dropout(0.3)\n",
    "        \n",
    "        self.conv2 = nn.Conv2d(28, 28, kernel_size=(3,3), stride=1, padding=1)\n",
    "        self.act2 = nn.ReLU()\n",
    "        self.pool2 = nn.MaxPool2d(kernel_size=(2, 2))\n",
    "        \n",
    "        self.flat = nn.Flatten()\n",
    "        \n",
    "        self.fc3 = nn.Linear(5488, 512)\n",
    "        self.act3 = nn.ReLU()\n",
    "        self.drop3 = nn.Dropout(0.5)\n",
    "        \n",
    "        self.fc4 = nn.Linear(512, 10)\n",
    "\n",
    "    def forward(self, x):\n",
    "        \n",
    "        # input 1x28x28, output 28x28x28\n",
    "        x = self.act1(self.conv1(x))\n",
    "        x = self.drop1(x)     \n",
    "        \n",
    "        # input 28x28x28, output 28x28x28\n",
    "        x = self.act2(self.conv2(x))\n",
    "        \n",
    "        # input 28x28x28, output 28x14x14\n",
    "        x = self.pool2(x)\n",
    "        \n",
    "        # input 28x14x14, output 5488\n",
    "        x = self.flat(x)\n",
    "        \n",
    "        # input 5488, output 512\n",
    "        x = self.act3(self.fc3(x))\n",
    "        x = self.drop3(x)\n",
    "        \n",
    "        # input 512, output 10\n",
    "        x = self.fc4(x)\n",
    "        \n",
    "        return x"
   ]
  },
  {
   "cell_type": "code",
   "execution_count": null,
   "id": "011d7e84-38cd-433e-bf73-909d78a8d44e",
   "metadata": {},
   "outputs": [],
   "source": [
    "model = CIFAR10Model()\n",
    "loss_fn = nn.CrossEntropyLoss()\n",
    "optimizer = torch.optim.SGD(model.parameters(), lr=1e-3)\n",
    "\n",
    "learning_rate = 1e-3\n",
    "epochs = 20\n",
    "batch_size = 100"
   ]
  },
  {
   "cell_type": "code",
   "execution_count": null,
   "id": "c93f3ed9-1690-4259-8cc3-ffed6181eb49",
   "metadata": {},
   "outputs": [],
   "source": [
    "# https://docs.pytorch.org/tutorials/beginner/basics/optimization_tutorial.html\n",
    "\n",
    "def train_loop(dataloader, model, loss_fn, optimizer):\n",
    "    size = len(dataloader.dataset)\n",
    "    model.train()\n",
    "    for batch_num, (X, y) in enumerate(dataloader):\n",
    "        y_pred = model(X)\n",
    "        loss = loss_fn(y_pred, y)\n",
    "        optimizer.zero_grad()\n",
    "        loss.backward()\n",
    "        optimizer.step() \n",
    "        if (batch_num + 1) % 100 == 0:\n",
    "            loss, current = loss.item(), (batch_num + 1) * batch_size\n",
    "            print(f\"loss: {loss:>7f}  [{current:>5d}/{size:>5d}]\") \n",
    "\n",
    "\n",
    "def test_loop(dataloader, model, loss_fn):\n",
    "    size = len(dataloader.dataset)\n",
    "    num_of_batches = len(dataloader)\n",
    "    test_loss, correct = 0, 0\n",
    "    model.eval()\n",
    "    with torch.no_grad():\n",
    "        for X, y in dataloader:\n",
    "            pred = model(X)\n",
    "            test_loss += loss_fn(pred, y).item()\n",
    "            correct += (pred.argmax(1) == y).type(torch.float).sum().item()\n",
    "    test_loss /= num_of_batches\n",
    "    correct /= size\n",
    "    print(f\"Test Error: \\n Accuracy: {(100*correct):>0.1f}%, Avg loss: {test_loss:>8f} \\n\")    "
   ]
  },
  {
   "cell_type": "code",
   "execution_count": null,
   "id": "a7290fff-ea99-4d9b-80b5-1b4dd96eb06f",
   "metadata": {},
   "outputs": [],
   "source": [
    "for t in range(epochs):\n",
    "    print(f\"Epoch {t+1}\\n-------------------------------\")\n",
    "    train_loop(train_dataloader, model, loss_fn, optimizer)\n",
    "    test_loop(test_dataloader, model, loss_fn)\n",
    "print(\"Done!\")"
   ]
  },
  {
   "cell_type": "code",
   "execution_count": null,
   "id": "30f2fccd-4a25-4c16-8b39-00f54b0b36a5",
   "metadata": {},
   "outputs": [],
   "source": [
    "# testing this has actually worked\n",
    "\n",
    "indices = random.sample(range(0, 10000), 10)\n",
    "\n",
    "for i in indices:\n",
    "    image, label = test_dataset[i]\n",
    "    image = torch.reshape(image, (1, 1, 28, 28))\n",
    "    pred = model(image).argmax(1)\n",
    "    plt.imshow(image[0,0,:,:], cmap=\"grey\")\n",
    "    plt.title(f\"Image {i} from the MNIST test dataset\")\n",
    "    plt.show()\n",
    "    print(f\"Model suggests this should show {pred}.\\n\")\n",
    "    "
   ]
  },
  {
   "cell_type": "code",
   "execution_count": null,
   "id": "b906186c-9d8f-4549-b13a-87bf66dc2515",
   "metadata": {},
   "outputs": [],
   "source": [
    "torch.save(model.state_dict(), 'model_weights.pth')"
   ]
  },
  {
   "cell_type": "code",
   "execution_count": null,
   "id": "958ff12d-e034-48e9-92a1-bddc4acd3c65",
   "metadata": {},
   "outputs": [],
   "source": [
    "model = CIFAR10Model()\n",
    "model.load_state_dict(torch.load('model_weights.pth', weights_only=True))\n",
    "model.eval()"
   ]
  },
  {
   "cell_type": "code",
   "execution_count": null,
   "id": "78bed857-0a5f-4dbc-9c20-ec7353316f0d",
   "metadata": {},
   "outputs": [],
   "source": [
    "# All done!"
   ]
  }
 ],
 "metadata": {
  "kernelspec": {
   "display_name": "practicekernel",
   "language": "python",
   "name": "practicekernel"
  },
  "language_info": {
   "codemirror_mode": {
    "name": "ipython",
    "version": 3
   },
   "file_extension": ".py",
   "mimetype": "text/x-python",
   "name": "python",
   "nbconvert_exporter": "python",
   "pygments_lexer": "ipython3",
   "version": "3.12.11"
  }
 },
 "nbformat": 4,
 "nbformat_minor": 5
}
